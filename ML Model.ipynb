{
 "cells": [
  {
   "cell_type": "markdown",
   "metadata": {},
   "source": [
    "# Covid Prediction Model"
   ]
  },
  {
   "cell_type": "markdown",
   "metadata": {},
   "source": [
    "### Importing Packages"
   ]
  },
  {
   "cell_type": "code",
   "execution_count": 1,
   "metadata": {
    "id": "kUcY8M669chi"
   },
   "outputs": [],
   "source": [
    "import numpy as np\n",
    "import matplotlib.pyplot as plt\n",
    "import pandas as pd\n",
    "import warnings\n",
    "warnings.filterwarnings('ignore')"
   ]
  },
  {
   "cell_type": "markdown",
   "metadata": {},
   "source": [
    "### Data Visualization"
   ]
  },
  {
   "cell_type": "code",
   "execution_count": 2,
   "metadata": {
    "colab": {
     "base_uri": "https://localhost:8080/",
     "height": 417
    },
    "executionInfo": {
     "elapsed": 56,
     "status": "ok",
     "timestamp": 1629177797175,
     "user": {
      "displayName": "CHITTURI ANVESH",
      "photoUrl": "",
      "userId": "10876929469431100658"
     },
     "user_tz": -330
    },
    "id": "i-M-Zepe9pKQ",
    "outputId": "c8766f05-a255-4a40-a4ec-e896810884ee"
   },
   "outputs": [
    {
     "data": {
      "text/html": [
       "<div>\n",
       "<style scoped>\n",
       "    .dataframe tbody tr th:only-of-type {\n",
       "        vertical-align: middle;\n",
       "    }\n",
       "\n",
       "    .dataframe tbody tr th {\n",
       "        vertical-align: top;\n",
       "    }\n",
       "\n",
       "    .dataframe thead th {\n",
       "        text-align: right;\n",
       "    }\n",
       "</style>\n",
       "<table border=\"1\" class=\"dataframe\">\n",
       "  <thead>\n",
       "    <tr style=\"text-align: right;\">\n",
       "      <th></th>\n",
       "      <th>Age (Yrs)</th>\n",
       "      <th>Heart Rate (bpm)</th>\n",
       "      <th>Body Temperature (F)</th>\n",
       "      <th>Systolic Blood Pressure (mm Hg)</th>\n",
       "      <th>Diastolic Blood Pressure (mm Hg)</th>\n",
       "      <th>SpO2 (%)</th>\n",
       "      <th>Respiration Rate (breaths/min)</th>\n",
       "      <th>Sugar (mg/dL)</th>\n",
       "      <th>Covid</th>\n",
       "    </tr>\n",
       "  </thead>\n",
       "  <tbody>\n",
       "    <tr>\n",
       "      <th>0</th>\n",
       "      <td>15</td>\n",
       "      <td>170</td>\n",
       "      <td>98.2</td>\n",
       "      <td>177</td>\n",
       "      <td>107</td>\n",
       "      <td>65</td>\n",
       "      <td>33</td>\n",
       "      <td>251</td>\n",
       "      <td>Yes</td>\n",
       "    </tr>\n",
       "    <tr>\n",
       "      <th>1</th>\n",
       "      <td>10</td>\n",
       "      <td>158</td>\n",
       "      <td>96.2</td>\n",
       "      <td>164</td>\n",
       "      <td>111</td>\n",
       "      <td>90</td>\n",
       "      <td>32</td>\n",
       "      <td>259</td>\n",
       "      <td>No</td>\n",
       "    </tr>\n",
       "    <tr>\n",
       "      <th>2</th>\n",
       "      <td>30</td>\n",
       "      <td>145</td>\n",
       "      <td>102.7</td>\n",
       "      <td>179</td>\n",
       "      <td>104</td>\n",
       "      <td>81</td>\n",
       "      <td>28</td>\n",
       "      <td>236</td>\n",
       "      <td>Yes</td>\n",
       "    </tr>\n",
       "    <tr>\n",
       "      <th>3</th>\n",
       "      <td>46</td>\n",
       "      <td>78</td>\n",
       "      <td>98.5</td>\n",
       "      <td>138</td>\n",
       "      <td>83</td>\n",
       "      <td>97</td>\n",
       "      <td>13</td>\n",
       "      <td>108</td>\n",
       "      <td>No</td>\n",
       "    </tr>\n",
       "    <tr>\n",
       "      <th>4</th>\n",
       "      <td>16</td>\n",
       "      <td>120</td>\n",
       "      <td>98.5</td>\n",
       "      <td>186</td>\n",
       "      <td>117</td>\n",
       "      <td>78</td>\n",
       "      <td>30</td>\n",
       "      <td>279</td>\n",
       "      <td>Yes</td>\n",
       "    </tr>\n",
       "    <tr>\n",
       "      <th>...</th>\n",
       "      <td>...</td>\n",
       "      <td>...</td>\n",
       "      <td>...</td>\n",
       "      <td>...</td>\n",
       "      <td>...</td>\n",
       "      <td>...</td>\n",
       "      <td>...</td>\n",
       "      <td>...</td>\n",
       "      <td>...</td>\n",
       "    </tr>\n",
       "    <tr>\n",
       "      <th>9995</th>\n",
       "      <td>27</td>\n",
       "      <td>78</td>\n",
       "      <td>99.3</td>\n",
       "      <td>108</td>\n",
       "      <td>66</td>\n",
       "      <td>95</td>\n",
       "      <td>17</td>\n",
       "      <td>102</td>\n",
       "      <td>No</td>\n",
       "    </tr>\n",
       "    <tr>\n",
       "      <th>9996</th>\n",
       "      <td>20</td>\n",
       "      <td>65</td>\n",
       "      <td>100.3</td>\n",
       "      <td>131</td>\n",
       "      <td>64</td>\n",
       "      <td>100</td>\n",
       "      <td>15</td>\n",
       "      <td>94</td>\n",
       "      <td>No</td>\n",
       "    </tr>\n",
       "    <tr>\n",
       "      <th>9997</th>\n",
       "      <td>30</td>\n",
       "      <td>90</td>\n",
       "      <td>100.5</td>\n",
       "      <td>90</td>\n",
       "      <td>64</td>\n",
       "      <td>95</td>\n",
       "      <td>16</td>\n",
       "      <td>120</td>\n",
       "      <td>No</td>\n",
       "    </tr>\n",
       "    <tr>\n",
       "      <th>9998</th>\n",
       "      <td>23</td>\n",
       "      <td>120</td>\n",
       "      <td>102.1</td>\n",
       "      <td>172</td>\n",
       "      <td>118</td>\n",
       "      <td>75</td>\n",
       "      <td>32</td>\n",
       "      <td>187</td>\n",
       "      <td>Yes</td>\n",
       "    </tr>\n",
       "    <tr>\n",
       "      <th>9999</th>\n",
       "      <td>17</td>\n",
       "      <td>176</td>\n",
       "      <td>97.0</td>\n",
       "      <td>187</td>\n",
       "      <td>110</td>\n",
       "      <td>74</td>\n",
       "      <td>30</td>\n",
       "      <td>228</td>\n",
       "      <td>Yes</td>\n",
       "    </tr>\n",
       "  </tbody>\n",
       "</table>\n",
       "<p>10000 rows × 9 columns</p>\n",
       "</div>"
      ],
      "text/plain": [
       "      Age (Yrs)  Heart Rate (bpm)  Body Temperature (F)  \\\n",
       "0            15               170                  98.2   \n",
       "1            10               158                  96.2   \n",
       "2            30               145                 102.7   \n",
       "3            46                78                  98.5   \n",
       "4            16               120                  98.5   \n",
       "...         ...               ...                   ...   \n",
       "9995         27                78                  99.3   \n",
       "9996         20                65                 100.3   \n",
       "9997         30                90                 100.5   \n",
       "9998         23               120                 102.1   \n",
       "9999         17               176                  97.0   \n",
       "\n",
       "      Systolic Blood Pressure (mm Hg)   Diastolic Blood Pressure (mm Hg)  \\\n",
       "0                                 177                                107   \n",
       "1                                 164                                111   \n",
       "2                                 179                                104   \n",
       "3                                 138                                 83   \n",
       "4                                 186                                117   \n",
       "...                               ...                                ...   \n",
       "9995                              108                                 66   \n",
       "9996                              131                                 64   \n",
       "9997                               90                                 64   \n",
       "9998                              172                                118   \n",
       "9999                              187                                110   \n",
       "\n",
       "      SpO2 (%)  Respiration Rate (breaths/min)  Sugar (mg/dL) Covid  \n",
       "0           65                              33            251   Yes  \n",
       "1           90                              32            259    No  \n",
       "2           81                              28            236   Yes  \n",
       "3           97                              13            108    No  \n",
       "4           78                              30            279   Yes  \n",
       "...        ...                             ...            ...   ...  \n",
       "9995        95                              17            102    No  \n",
       "9996       100                              15             94    No  \n",
       "9997        95                              16            120    No  \n",
       "9998        75                              32            187   Yes  \n",
       "9999        74                              30            228   Yes  \n",
       "\n",
       "[10000 rows x 9 columns]"
      ]
     },
     "execution_count": 2,
     "metadata": {},
     "output_type": "execute_result"
    }
   ],
   "source": [
    "complete_data = pd.read_csv(\"new_dataset.csv\")\n",
    "data = complete_data[[ 'Age (Yrs)', 'Heart Rate (bpm)', 'Body Temperature (F)', 'Systolic Blood Pressure (mm Hg)', ' Diastolic Blood Pressure (mm Hg)',\n",
    "           'SpO2 (%)', 'Respiration Rate (breaths/min)', 'Sugar (mg/dL)','Covid']]\n",
    "data"
   ]
  },
  {
   "cell_type": "code",
   "execution_count": 3,
   "metadata": {},
   "outputs": [],
   "source": [
    "data.to_csv('dataset.csv',index= False)"
   ]
  },
  {
   "cell_type": "code",
   "execution_count": 4,
   "metadata": {
    "id": "wgEIy7bK9rXx"
   },
   "outputs": [
    {
     "data": {
      "text/plain": [
       "No     6439\n",
       "Yes    3561\n",
       "Name: Covid, dtype: int64"
      ]
     },
     "execution_count": 4,
     "metadata": {},
     "output_type": "execute_result"
    }
   ],
   "source": [
    "X = data.drop('Covid', axis=1)\n",
    "Y = data['Covid']\n",
    "Y.value_counts()"
   ]
  },
  {
   "cell_type": "code",
   "execution_count": 5,
   "metadata": {},
   "outputs": [],
   "source": [
    "Y = Y.to_frame()"
   ]
  },
  {
   "cell_type": "code",
   "execution_count": 1,
   "metadata": {
    "id": "ZabrFxna-JIO"
   },
   "outputs": [
    {
     "ename": "NameError",
     "evalue": "name 'X' is not defined",
     "output_type": "error",
     "traceback": [
      "\u001b[1;31m---------------------------------------------------------------------------\u001b[0m",
      "\u001b[1;31mNameError\u001b[0m                                 Traceback (most recent call last)",
      "\u001b[1;32m<ipython-input-1-4ec970a08640>\u001b[0m in \u001b[0;36m<module>\u001b[1;34m\u001b[0m\n\u001b[0;32m      1\u001b[0m \u001b[1;32mfrom\u001b[0m \u001b[0msklearn\u001b[0m\u001b[1;33m.\u001b[0m\u001b[0mmodel_selection\u001b[0m \u001b[1;32mimport\u001b[0m \u001b[0mtrain_test_split\u001b[0m\u001b[1;33m\u001b[0m\u001b[1;33m\u001b[0m\u001b[0m\n\u001b[1;32m----> 2\u001b[1;33m \u001b[0mX_train\u001b[0m\u001b[1;33m,\u001b[0m \u001b[0mX_test\u001b[0m\u001b[1;33m,\u001b[0m \u001b[0mY_train\u001b[0m\u001b[1;33m,\u001b[0m \u001b[0mY_test\u001b[0m \u001b[1;33m=\u001b[0m \u001b[0mtrain_test_split\u001b[0m\u001b[1;33m(\u001b[0m\u001b[0mX\u001b[0m\u001b[1;33m,\u001b[0m\u001b[0mY\u001b[0m\u001b[1;33m,\u001b[0m \u001b[0mtest_size\u001b[0m \u001b[1;33m=\u001b[0m \u001b[1;36m0.2\u001b[0m\u001b[1;33m)\u001b[0m\u001b[1;33m\u001b[0m\u001b[1;33m\u001b[0m\u001b[0m\n\u001b[0m",
      "\u001b[1;31mNameError\u001b[0m: name 'X' is not defined"
     ]
    }
   ],
   "source": [
    "from sklearn.model_selection import train_test_split\n",
    "X_train, X_test, Y_train, Y_test = train_test_split(X,Y, test_size = 0.2)"
   ]
  },
  {
   "cell_type": "markdown",
   "metadata": {},
   "source": [
    "# Machine Learning Algorithms"
   ]
  },
  {
   "cell_type": "markdown",
   "metadata": {},
   "source": [
    "### Decision Tree "
   ]
  },
  {
   "cell_type": "code",
   "execution_count": 7,
   "metadata": {
    "colab": {
     "base_uri": "https://localhost:8080/"
    },
    "executionInfo": {
     "elapsed": 49,
     "status": "ok",
     "timestamp": 1629177797179,
     "user": {
      "displayName": "CHITTURI ANVESH",
      "photoUrl": "",
      "userId": "10876929469431100658"
     },
     "user_tz": -330
    },
    "id": "dNTUGOi9-apv",
    "outputId": "e2a814f8-2964-4193-e71b-c1a20dd2a369"
   },
   "outputs": [],
   "source": [
    "from sklearn import tree\n",
    "from sklearn.tree import DecisionTreeClassifier\n",
    "from sklearn.tree import plot_tree\n",
    "\n",
    "dt_clf = DecisionTreeClassifier()\n",
    "dt_clf.fit(X_train,Y_train)\n",
    "Y_pred_dt_1 = dt_clf.predict(X_test)"
   ]
  },
  {
   "cell_type": "code",
   "execution_count": 8,
   "metadata": {
    "colab": {
     "base_uri": "https://localhost:8080/"
    },
    "executionInfo": {
     "elapsed": 36,
     "status": "ok",
     "timestamp": 1629177797182,
     "user": {
      "displayName": "CHITTURI ANVESH",
      "photoUrl": "",
      "userId": "10876929469431100658"
     },
     "user_tz": -330
    },
    "id": "3_n_duS4_B1I",
    "outputId": "26207220-3ab8-4a09-82c3-6b2307fd49f6"
   },
   "outputs": [
    {
     "name": "stdout",
     "output_type": "stream",
     "text": [
      "[[1269   20]\n",
      " [  25  686]]\n",
      "              precision    recall  f1-score   support\n",
      "\n",
      "          No       0.98      0.98      0.98      1289\n",
      "         Yes       0.97      0.96      0.97       711\n",
      "\n",
      "    accuracy                           0.98      2000\n",
      "   macro avg       0.98      0.97      0.98      2000\n",
      "weighted avg       0.98      0.98      0.98      2000\n",
      "\n"
     ]
    }
   ],
   "source": [
    "from sklearn.metrics import classification_report, confusion_matrix\n",
    "print(confusion_matrix(Y_test, Y_pred_dt_1))\n",
    "print(classification_report(Y_test, Y_pred_dt_1))"
   ]
  },
  {
   "cell_type": "code",
   "execution_count": 9,
   "metadata": {
    "colab": {
     "base_uri": "https://localhost:8080/"
    },
    "executionInfo": {
     "elapsed": 30,
     "status": "ok",
     "timestamp": 1629177797184,
     "user": {
      "displayName": "CHITTURI ANVESH",
      "photoUrl": "",
      "userId": "10876929469431100658"
     },
     "user_tz": -330
    },
    "id": "eDDIwt1P_XRE",
    "outputId": "b78943a4-adc0-4bb9-d4eb-b477b825f08a"
   },
   "outputs": [
    {
     "name": "stdout",
     "output_type": "stream",
     "text": [
      "Decision Tree Accuracy:  97.75\n"
     ]
    }
   ],
   "source": [
    "from sklearn.metrics import accuracy_score\n",
    "print('Decision Tree Accuracy: ', accuracy_score(Y_test,Y_pred_dt_1)*100)"
   ]
  },
  {
   "cell_type": "markdown",
   "metadata": {},
   "source": [
    "### Random Forest Classifier"
   ]
  },
  {
   "cell_type": "code",
   "execution_count": 10,
   "metadata": {
    "colab": {
     "base_uri": "https://localhost:8080/"
    },
    "executionInfo": {
     "elapsed": 26,
     "status": "ok",
     "timestamp": 1629177797185,
     "user": {
      "displayName": "CHITTURI ANVESH",
      "photoUrl": "",
      "userId": "10876929469431100658"
     },
     "user_tz": -330
    },
    "id": "Znh-hXPuC8A5",
    "outputId": "b9a76ddc-0ce8-4927-b909-906e82e726db"
   },
   "outputs": [],
   "source": [
    "from sklearn.ensemble import RandomForestClassifier"
   ]
  },
  {
   "cell_type": "code",
   "execution_count": 11,
   "metadata": {},
   "outputs": [
    {
     "name": "stdout",
     "output_type": "stream",
     "text": [
      "Random Forest Accuracy:  98.95\n"
     ]
    }
   ],
   "source": [
    "from sklearn.ensemble import RandomForestClassifier\n",
    "rf_clf = RandomForestClassifier()#random_state=max_i\n",
    "rf_clf = rf_clf.fit(X_train,Y_train)\n",
    "estimator_limited = rf_clf.estimators_[5]\n",
    "y_pred_rf_1 = rf_clf.predict(X_test)\n",
    "print('Random Forest Accuracy: ', accuracy_score(Y_test,y_pred_rf_1)*100)"
   ]
  },
  {
   "cell_type": "code",
   "execution_count": 12,
   "metadata": {},
   "outputs": [
    {
     "name": "stdout",
     "output_type": "stream",
     "text": [
      "[[1268   21]\n",
      " [   0  711]]\n",
      "              precision    recall  f1-score   support\n",
      "\n",
      "          No       1.00      0.98      0.99      1289\n",
      "         Yes       0.97      1.00      0.99       711\n",
      "\n",
      "    accuracy                           0.99      2000\n",
      "   macro avg       0.99      0.99      0.99      2000\n",
      "weighted avg       0.99      0.99      0.99      2000\n",
      "\n"
     ]
    }
   ],
   "source": [
    "print(confusion_matrix(Y_test, y_pred_rf_1))\n",
    "print(classification_report(Y_test, y_pred_rf_1))"
   ]
  },
  {
   "cell_type": "markdown",
   "metadata": {},
   "source": [
    "### Logistic Regression"
   ]
  },
  {
   "cell_type": "code",
   "execution_count": 13,
   "metadata": {},
   "outputs": [
    {
     "name": "stdout",
     "output_type": "stream",
     "text": [
      "Logistic Regression Accuracy:  91.8\n"
     ]
    }
   ],
   "source": [
    "from sklearn.metrics import accuracy_score\n",
    "from sklearn.linear_model import LogisticRegression\n",
    "\n",
    "lr_model = LogisticRegression(random_state=0).fit(X_train, Y_train)\n",
    "lr_y_pred_1 = lr_model.predict(X_test)\n",
    "print('Logistic Regression Accuracy: ', accuracy_score(Y_test,lr_y_pred_1)*100)"
   ]
  },
  {
   "cell_type": "code",
   "execution_count": 14,
   "metadata": {},
   "outputs": [
    {
     "name": "stdout",
     "output_type": "stream",
     "text": [
      "[[1190   99]\n",
      " [  65  646]]\n",
      "              precision    recall  f1-score   support\n",
      "\n",
      "          No       0.95      0.92      0.94      1289\n",
      "         Yes       0.87      0.91      0.89       711\n",
      "\n",
      "    accuracy                           0.92      2000\n",
      "   macro avg       0.91      0.92      0.91      2000\n",
      "weighted avg       0.92      0.92      0.92      2000\n",
      "\n"
     ]
    }
   ],
   "source": [
    "print(confusion_matrix(Y_test, lr_y_pred_1))\n",
    "print(classification_report(Y_test, lr_y_pred_1))"
   ]
  },
  {
   "cell_type": "markdown",
   "metadata": {},
   "source": [
    "### Naive Bayes"
   ]
  },
  {
   "cell_type": "code",
   "execution_count": 15,
   "metadata": {},
   "outputs": [
    {
     "name": "stdout",
     "output_type": "stream",
     "text": [
      "Naive Bayes Accuracy:  84.6\n"
     ]
    }
   ],
   "source": [
    "from sklearn.naive_bayes import GaussianNB\n",
    "gnb = GaussianNB()\n",
    "gnb.fit(X_train,Y_train)\n",
    "gnb_y_pred_1 = gnb.predict(X_test)\n",
    "print('Naive Bayes Accuracy: ', accuracy_score(Y_test,gnb_y_pred_1)*100)"
   ]
  },
  {
   "cell_type": "code",
   "execution_count": 16,
   "metadata": {},
   "outputs": [
    {
     "name": "stdout",
     "output_type": "stream",
     "text": [
      "[[982 307]\n",
      " [  1 710]]\n",
      "              precision    recall  f1-score   support\n",
      "\n",
      "          No       1.00      0.76      0.86      1289\n",
      "         Yes       0.70      1.00      0.82       711\n",
      "\n",
      "    accuracy                           0.85      2000\n",
      "   macro avg       0.85      0.88      0.84      2000\n",
      "weighted avg       0.89      0.85      0.85      2000\n",
      "\n"
     ]
    }
   ],
   "source": [
    "print(confusion_matrix(Y_test, gnb_y_pred_1))\n",
    "print(classification_report(Y_test, gnb_y_pred_1))"
   ]
  },
  {
   "cell_type": "markdown",
   "metadata": {},
   "source": [
    "### K-Nearest Neighbors"
   ]
  },
  {
   "cell_type": "code",
   "execution_count": 17,
   "metadata": {
    "scrolled": true
   },
   "outputs": [
    {
     "name": "stdout",
     "output_type": "stream",
     "text": [
      "K-Nearest Neighbors Accuracy:  90.8\n"
     ]
    }
   ],
   "source": [
    "from sklearn.neighbors import KNeighborsClassifier\n",
    "knn = KNeighborsClassifier()\n",
    "knn.fit(X_train,Y_train)\n",
    "knn_y_pred_1 = knn.predict(X_test)\n",
    "print('K-Nearest Neighbors Accuracy: ', accuracy_score(Y_test,knn_y_pred_1)*100)"
   ]
  },
  {
   "cell_type": "code",
   "execution_count": 18,
   "metadata": {
    "scrolled": true
   },
   "outputs": [
    {
     "name": "stdout",
     "output_type": "stream",
     "text": [
      "[[1162  127]\n",
      " [  57  654]]\n",
      "              precision    recall  f1-score   support\n",
      "\n",
      "          No       0.95      0.90      0.93      1289\n",
      "         Yes       0.84      0.92      0.88       711\n",
      "\n",
      "    accuracy                           0.91      2000\n",
      "   macro avg       0.90      0.91      0.90      2000\n",
      "weighted avg       0.91      0.91      0.91      2000\n",
      "\n"
     ]
    }
   ],
   "source": [
    "print(confusion_matrix(Y_test, knn_y_pred_1))\n",
    "print(classification_report(Y_test, knn_y_pred_1))"
   ]
  },
  {
   "cell_type": "markdown",
   "metadata": {},
   "source": [
    "### Stochastic Gradient Descent"
   ]
  },
  {
   "cell_type": "code",
   "execution_count": 19,
   "metadata": {},
   "outputs": [
    {
     "name": "stdout",
     "output_type": "stream",
     "text": [
      "Stochastic Gradient Descent Accuracy:  89.75\n"
     ]
    }
   ],
   "source": [
    "from sklearn.linear_model import SGDClassifier\n",
    "sgd = SGDClassifier(loss = 'modified_huber',shuffle = True, random_state = 101)\n",
    "sgd.fit(X_train,Y_train)\n",
    "sgd_y_pred_1 = sgd.predict(X_test)\n",
    "print('Stochastic Gradient Descent Accuracy: ', accuracy_score(Y_test,sgd_y_pred_1)*100)"
   ]
  },
  {
   "cell_type": "code",
   "execution_count": 20,
   "metadata": {},
   "outputs": [
    {
     "name": "stdout",
     "output_type": "stream",
     "text": [
      "[[1087  202]\n",
      " [   3  708]]\n",
      "              precision    recall  f1-score   support\n",
      "\n",
      "          No       1.00      0.84      0.91      1289\n",
      "         Yes       0.78      1.00      0.87       711\n",
      "\n",
      "    accuracy                           0.90      2000\n",
      "   macro avg       0.89      0.92      0.89      2000\n",
      "weighted avg       0.92      0.90      0.90      2000\n",
      "\n"
     ]
    }
   ],
   "source": [
    "print(confusion_matrix(Y_test, sgd_y_pred_1))\n",
    "print(classification_report(Y_test, sgd_y_pred_1))"
   ]
  },
  {
   "cell_type": "markdown",
   "metadata": {},
   "source": [
    "### Support Vector Machines"
   ]
  },
  {
   "cell_type": "code",
   "execution_count": 21,
   "metadata": {},
   "outputs": [
    {
     "name": "stdout",
     "output_type": "stream",
     "text": [
      "Support Vector Machines Accuracy:  93.2\n"
     ]
    }
   ],
   "source": [
    "from sklearn import svm\n",
    "svm = svm.SVC()\n",
    "svm.fit(X_train,Y_train)\n",
    "svm_y_pred_1 = svm.predict(X_test)\n",
    "print('Support Vector Machines Accuracy: ', accuracy_score(Y_test,svm_y_pred_1)*100)"
   ]
  },
  {
   "cell_type": "code",
   "execution_count": 22,
   "metadata": {},
   "outputs": [
    {
     "name": "stdout",
     "output_type": "stream",
     "text": [
      "[[1204   85]\n",
      " [  51  660]]\n",
      "              precision    recall  f1-score   support\n",
      "\n",
      "          No       0.96      0.93      0.95      1289\n",
      "         Yes       0.89      0.93      0.91       711\n",
      "\n",
      "    accuracy                           0.93      2000\n",
      "   macro avg       0.92      0.93      0.93      2000\n",
      "weighted avg       0.93      0.93      0.93      2000\n",
      "\n"
     ]
    }
   ],
   "source": [
    "print(confusion_matrix(Y_test, svm_y_pred_1))\n",
    "print(classification_report(Y_test, svm_y_pred_1))"
   ]
  },
  {
   "cell_type": "markdown",
   "metadata": {},
   "source": [
    "## 1 Lakh Dataset"
   ]
  },
  {
   "cell_type": "markdown",
   "metadata": {},
   "source": [
    "### Data Visualization"
   ]
  },
  {
   "cell_type": "code",
   "execution_count": 23,
   "metadata": {
    "colab": {
     "base_uri": "https://localhost:8080/",
     "height": 417
    },
    "executionInfo": {
     "elapsed": 56,
     "status": "ok",
     "timestamp": 1629177797175,
     "user": {
      "displayName": "CHITTURI ANVESH",
      "photoUrl": "",
      "userId": "10876929469431100658"
     },
     "user_tz": -330
    },
    "id": "i-M-Zepe9pKQ",
    "outputId": "c8766f05-a255-4a40-a4ec-e896810884ee"
   },
   "outputs": [
    {
     "data": {
      "text/html": [
       "<div>\n",
       "<style scoped>\n",
       "    .dataframe tbody tr th:only-of-type {\n",
       "        vertical-align: middle;\n",
       "    }\n",
       "\n",
       "    .dataframe tbody tr th {\n",
       "        vertical-align: top;\n",
       "    }\n",
       "\n",
       "    .dataframe thead th {\n",
       "        text-align: right;\n",
       "    }\n",
       "</style>\n",
       "<table border=\"1\" class=\"dataframe\">\n",
       "  <thead>\n",
       "    <tr style=\"text-align: right;\">\n",
       "      <th></th>\n",
       "      <th>Age (Yrs)</th>\n",
       "      <th>Heart Rate (bpm)</th>\n",
       "      <th>Body Temperature (F)</th>\n",
       "      <th>Systolic Blood Pressure (mm Hg)</th>\n",
       "      <th>Diastolic Blood Pressure (mm Hg)</th>\n",
       "      <th>SpO2 (%)</th>\n",
       "      <th>Respiration Rate (breaths/min)</th>\n",
       "      <th>Sugar (mg/dL)</th>\n",
       "      <th>Covid</th>\n",
       "    </tr>\n",
       "  </thead>\n",
       "  <tbody>\n",
       "    <tr>\n",
       "      <th>0</th>\n",
       "      <td>40</td>\n",
       "      <td>135</td>\n",
       "      <td>102.1</td>\n",
       "      <td>158</td>\n",
       "      <td>96</td>\n",
       "      <td>69</td>\n",
       "      <td>25</td>\n",
       "      <td>270</td>\n",
       "      <td>Yes</td>\n",
       "    </tr>\n",
       "    <tr>\n",
       "      <th>1</th>\n",
       "      <td>52</td>\n",
       "      <td>92</td>\n",
       "      <td>99.6</td>\n",
       "      <td>125</td>\n",
       "      <td>60</td>\n",
       "      <td>92</td>\n",
       "      <td>14</td>\n",
       "      <td>111</td>\n",
       "      <td>No</td>\n",
       "    </tr>\n",
       "    <tr>\n",
       "      <th>2</th>\n",
       "      <td>52</td>\n",
       "      <td>71</td>\n",
       "      <td>98.5</td>\n",
       "      <td>121</td>\n",
       "      <td>90</td>\n",
       "      <td>97</td>\n",
       "      <td>16</td>\n",
       "      <td>77</td>\n",
       "      <td>No</td>\n",
       "    </tr>\n",
       "    <tr>\n",
       "      <th>3</th>\n",
       "      <td>50</td>\n",
       "      <td>145</td>\n",
       "      <td>100.9</td>\n",
       "      <td>199</td>\n",
       "      <td>105</td>\n",
       "      <td>82</td>\n",
       "      <td>26</td>\n",
       "      <td>258</td>\n",
       "      <td>Yes</td>\n",
       "    </tr>\n",
       "    <tr>\n",
       "      <th>4</th>\n",
       "      <td>41</td>\n",
       "      <td>92</td>\n",
       "      <td>98.6</td>\n",
       "      <td>98</td>\n",
       "      <td>90</td>\n",
       "      <td>99</td>\n",
       "      <td>13</td>\n",
       "      <td>105</td>\n",
       "      <td>No</td>\n",
       "    </tr>\n",
       "    <tr>\n",
       "      <th>...</th>\n",
       "      <td>...</td>\n",
       "      <td>...</td>\n",
       "      <td>...</td>\n",
       "      <td>...</td>\n",
       "      <td>...</td>\n",
       "      <td>...</td>\n",
       "      <td>...</td>\n",
       "      <td>...</td>\n",
       "      <td>...</td>\n",
       "    </tr>\n",
       "    <tr>\n",
       "      <th>99995</th>\n",
       "      <td>22</td>\n",
       "      <td>76</td>\n",
       "      <td>99.9</td>\n",
       "      <td>103</td>\n",
       "      <td>83</td>\n",
       "      <td>97</td>\n",
       "      <td>14</td>\n",
       "      <td>122</td>\n",
       "      <td>No</td>\n",
       "    </tr>\n",
       "    <tr>\n",
       "      <th>99996</th>\n",
       "      <td>29</td>\n",
       "      <td>122</td>\n",
       "      <td>103.5</td>\n",
       "      <td>193</td>\n",
       "      <td>125</td>\n",
       "      <td>76</td>\n",
       "      <td>34</td>\n",
       "      <td>216</td>\n",
       "      <td>Yes</td>\n",
       "    </tr>\n",
       "    <tr>\n",
       "      <th>99997</th>\n",
       "      <td>46</td>\n",
       "      <td>88</td>\n",
       "      <td>98.2</td>\n",
       "      <td>98</td>\n",
       "      <td>68</td>\n",
       "      <td>97</td>\n",
       "      <td>14</td>\n",
       "      <td>106</td>\n",
       "      <td>No</td>\n",
       "    </tr>\n",
       "    <tr>\n",
       "      <th>99998</th>\n",
       "      <td>21</td>\n",
       "      <td>148</td>\n",
       "      <td>101.4</td>\n",
       "      <td>163</td>\n",
       "      <td>126</td>\n",
       "      <td>85</td>\n",
       "      <td>35</td>\n",
       "      <td>201</td>\n",
       "      <td>No</td>\n",
       "    </tr>\n",
       "    <tr>\n",
       "      <th>99999</th>\n",
       "      <td>38</td>\n",
       "      <td>70</td>\n",
       "      <td>98.9</td>\n",
       "      <td>99</td>\n",
       "      <td>74</td>\n",
       "      <td>94</td>\n",
       "      <td>17</td>\n",
       "      <td>131</td>\n",
       "      <td>No</td>\n",
       "    </tr>\n",
       "  </tbody>\n",
       "</table>\n",
       "<p>100000 rows × 9 columns</p>\n",
       "</div>"
      ],
      "text/plain": [
       "       Age (Yrs)  Heart Rate (bpm)  Body Temperature (F)  \\\n",
       "0             40               135                 102.1   \n",
       "1             52                92                  99.6   \n",
       "2             52                71                  98.5   \n",
       "3             50               145                 100.9   \n",
       "4             41                92                  98.6   \n",
       "...          ...               ...                   ...   \n",
       "99995         22                76                  99.9   \n",
       "99996         29               122                 103.5   \n",
       "99997         46                88                  98.2   \n",
       "99998         21               148                 101.4   \n",
       "99999         38                70                  98.9   \n",
       "\n",
       "       Systolic Blood Pressure (mm Hg)   Diastolic Blood Pressure (mm Hg)  \\\n",
       "0                                  158                                 96   \n",
       "1                                  125                                 60   \n",
       "2                                  121                                 90   \n",
       "3                                  199                                105   \n",
       "4                                   98                                 90   \n",
       "...                                ...                                ...   \n",
       "99995                              103                                 83   \n",
       "99996                              193                                125   \n",
       "99997                               98                                 68   \n",
       "99998                              163                                126   \n",
       "99999                               99                                 74   \n",
       "\n",
       "       SpO2 (%)  Respiration Rate (breaths/min)  Sugar (mg/dL) Covid  \n",
       "0            69                              25            270   Yes  \n",
       "1            92                              14            111    No  \n",
       "2            97                              16             77    No  \n",
       "3            82                              26            258   Yes  \n",
       "4            99                              13            105    No  \n",
       "...         ...                             ...            ...   ...  \n",
       "99995        97                              14            122    No  \n",
       "99996        76                              34            216   Yes  \n",
       "99997        97                              14            106    No  \n",
       "99998        85                              35            201    No  \n",
       "99999        94                              17            131    No  \n",
       "\n",
       "[100000 rows x 9 columns]"
      ]
     },
     "execution_count": 23,
     "metadata": {},
     "output_type": "execute_result"
    }
   ],
   "source": [
    "complete_data = pd.read_csv(\"new_dataset_100000.csv\")\n",
    "data = complete_data[[ 'Age (Yrs)', 'Heart Rate (bpm)', 'Body Temperature (F)', 'Systolic Blood Pressure (mm Hg)', ' Diastolic Blood Pressure (mm Hg)',\n",
    "           'SpO2 (%)', 'Respiration Rate (breaths/min)', 'Sugar (mg/dL)','Covid']]\n",
    "data"
   ]
  },
  {
   "cell_type": "code",
   "execution_count": 24,
   "metadata": {},
   "outputs": [],
   "source": [
    "data.to_csv('dataset_100000.csv',index= False)"
   ]
  },
  {
   "cell_type": "code",
   "execution_count": 25,
   "metadata": {},
   "outputs": [
    {
     "data": {
      "text/plain": [
       "vaccination_status                   1420\n",
       "vaccine                              1420\n",
       "dose                                 1420\n",
       "prob                                 1420\n",
       "anomaly                              1420\n",
       "Age (Yrs)                            1420\n",
       "Heart Rate (bpm)                     1420\n",
       "Body Temperature (F)                 1420\n",
       "Systolic Blood Pressure (mm Hg)      1420\n",
       " Diastolic Blood Pressure (mm Hg)    1420\n",
       "SpO2 (%)                             1420\n",
       "Respiration Rate (breaths/min)       1420\n",
       "Sugar (mg/dL)                        1420\n",
       "Covid                                1420\n",
       "dtype: int64"
      ]
     },
     "execution_count": 25,
     "metadata": {},
     "output_type": "execute_result"
    }
   ],
   "source": [
    "complete_data[(complete_data['vaccination_status'] == 'Yes' ) & (complete_data['dose'] == 2) & (complete_data['anomaly'] == 1)].count()"
   ]
  },
  {
   "cell_type": "code",
   "execution_count": 26,
   "metadata": {
    "id": "wgEIy7bK9rXx"
   },
   "outputs": [
    {
     "name": "stdout",
     "output_type": "stream",
     "text": [
      "(35691, 9)\n"
     ]
    },
    {
     "data": {
      "text/plain": [
       "No     64309\n",
       "Yes    35691\n",
       "Name: Covid, dtype: int64"
      ]
     },
     "execution_count": 26,
     "metadata": {},
     "output_type": "execute_result"
    }
   ],
   "source": [
    "y_no = data[data['Covid'] == 'Yes']\n",
    "print(y_no.shape)\n",
    "X = data.drop('Covid', axis=1)\n",
    "Y = data['Covid']\n",
    "Y.value_counts()"
   ]
  },
  {
   "cell_type": "code",
   "execution_count": 27,
   "metadata": {},
   "outputs": [],
   "source": [
    "Y = Y.to_frame()"
   ]
  },
  {
   "cell_type": "code",
   "execution_count": 28,
   "metadata": {
    "id": "ZabrFxna-JIO"
   },
   "outputs": [],
   "source": [
    "from sklearn.model_selection import train_test_split\n",
    "X_train, X_test, Y_train, Y_test = train_test_split(X,Y, test_size = 0.2)"
   ]
  },
  {
   "cell_type": "markdown",
   "metadata": {},
   "source": [
    "# Machine Learning Algorithms"
   ]
  },
  {
   "cell_type": "markdown",
   "metadata": {},
   "source": [
    "### Decision Tree "
   ]
  },
  {
   "cell_type": "code",
   "execution_count": 29,
   "metadata": {
    "colab": {
     "base_uri": "https://localhost:8080/"
    },
    "executionInfo": {
     "elapsed": 49,
     "status": "ok",
     "timestamp": 1629177797179,
     "user": {
      "displayName": "CHITTURI ANVESH",
      "photoUrl": "",
      "userId": "10876929469431100658"
     },
     "user_tz": -330
    },
    "id": "dNTUGOi9-apv",
    "outputId": "e2a814f8-2964-4193-e71b-c1a20dd2a369"
   },
   "outputs": [],
   "source": [
    "from sklearn import tree\n",
    "from sklearn.tree import DecisionTreeClassifier\n",
    "from sklearn.tree import plot_tree\n",
    "\n",
    "dt_clf = DecisionTreeClassifier()\n",
    "dt_clf.fit(X_train,Y_train)\n",
    "Y_pred_dt_2 = dt_clf.predict(X_test)"
   ]
  },
  {
   "cell_type": "code",
   "execution_count": 30,
   "metadata": {
    "colab": {
     "base_uri": "https://localhost:8080/"
    },
    "executionInfo": {
     "elapsed": 36,
     "status": "ok",
     "timestamp": 1629177797182,
     "user": {
      "displayName": "CHITTURI ANVESH",
      "photoUrl": "",
      "userId": "10876929469431100658"
     },
     "user_tz": -330
    },
    "id": "3_n_duS4_B1I",
    "outputId": "26207220-3ab8-4a09-82c3-6b2307fd49f6"
   },
   "outputs": [
    {
     "name": "stdout",
     "output_type": "stream",
     "text": [
      "[[12658   189]\n",
      " [  284  6869]]\n",
      "              precision    recall  f1-score   support\n",
      "\n",
      "          No       0.98      0.99      0.98     12847\n",
      "         Yes       0.97      0.96      0.97      7153\n",
      "\n",
      "    accuracy                           0.98     20000\n",
      "   macro avg       0.98      0.97      0.97     20000\n",
      "weighted avg       0.98      0.98      0.98     20000\n",
      "\n"
     ]
    }
   ],
   "source": [
    "from sklearn.metrics import classification_report, confusion_matrix\n",
    "print(confusion_matrix(Y_test, Y_pred_dt_2))\n",
    "print(classification_report(Y_test, Y_pred_dt_2))"
   ]
  },
  {
   "cell_type": "code",
   "execution_count": 31,
   "metadata": {
    "colab": {
     "base_uri": "https://localhost:8080/"
    },
    "executionInfo": {
     "elapsed": 30,
     "status": "ok",
     "timestamp": 1629177797184,
     "user": {
      "displayName": "CHITTURI ANVESH",
      "photoUrl": "",
      "userId": "10876929469431100658"
     },
     "user_tz": -330
    },
    "id": "eDDIwt1P_XRE",
    "outputId": "b78943a4-adc0-4bb9-d4eb-b477b825f08a"
   },
   "outputs": [
    {
     "name": "stdout",
     "output_type": "stream",
     "text": [
      "Decision Tree Accuracy:  97.635\n"
     ]
    }
   ],
   "source": [
    "from sklearn.metrics import accuracy_score\n",
    "print('Decision Tree Accuracy: ', accuracy_score(Y_test,Y_pred_dt_2)*100)"
   ]
  },
  {
   "cell_type": "markdown",
   "metadata": {},
   "source": [
    "### Random Forest Classifier"
   ]
  },
  {
   "cell_type": "code",
   "execution_count": 32,
   "metadata": {
    "colab": {
     "base_uri": "https://localhost:8080/"
    },
    "executionInfo": {
     "elapsed": 26,
     "status": "ok",
     "timestamp": 1629177797185,
     "user": {
      "displayName": "CHITTURI ANVESH",
      "photoUrl": "",
      "userId": "10876929469431100658"
     },
     "user_tz": -330
    },
    "id": "Znh-hXPuC8A5",
    "outputId": "b9a76ddc-0ce8-4927-b909-906e82e726db"
   },
   "outputs": [],
   "source": [
    "from sklearn.ensemble import RandomForestClassifier"
   ]
  },
  {
   "cell_type": "code",
   "execution_count": 33,
   "metadata": {},
   "outputs": [
    {
     "name": "stdout",
     "output_type": "stream",
     "text": [
      "Random Forest Accuracy:  99.035\n"
     ]
    }
   ],
   "source": [
    "from sklearn.ensemble import RandomForestClassifier\n",
    "rf_clf = RandomForestClassifier()\n",
    "rf_clf = rf_clf.fit(X_train,Y_train)\n",
    "estimator_limited = rf_clf.estimators_[5]\n",
    "y_pred_rf_2 = rf_clf.predict(X_test)\n",
    "print('Random Forest Accuracy: ', accuracy_score(Y_test,y_pred_rf_2)*100)"
   ]
  },
  {
   "cell_type": "code",
   "execution_count": 34,
   "metadata": {},
   "outputs": [
    {
     "name": "stdout",
     "output_type": "stream",
     "text": [
      "[[12654   193]\n",
      " [    0  7153]]\n",
      "              precision    recall  f1-score   support\n",
      "\n",
      "          No       1.00      0.98      0.99     12847\n",
      "         Yes       0.97      1.00      0.99      7153\n",
      "\n",
      "    accuracy                           0.99     20000\n",
      "   macro avg       0.99      0.99      0.99     20000\n",
      "weighted avg       0.99      0.99      0.99     20000\n",
      "\n"
     ]
    }
   ],
   "source": [
    "print(confusion_matrix(Y_test, y_pred_rf_2))\n",
    "print(classification_report(Y_test, y_pred_rf_2))"
   ]
  },
  {
   "cell_type": "markdown",
   "metadata": {},
   "source": [
    "### Logistic Regression"
   ]
  },
  {
   "cell_type": "code",
   "execution_count": 35,
   "metadata": {},
   "outputs": [
    {
     "name": "stdout",
     "output_type": "stream",
     "text": [
      "Logistic Regression Accuracy:  90.98\n"
     ]
    }
   ],
   "source": [
    "from sklearn.metrics import accuracy_score\n",
    "from sklearn.linear_model import LogisticRegression\n",
    "\n",
    "lr_model = LogisticRegression(random_state=0).fit(X_train, Y_train)\n",
    "lr_y_pred_2 = lr_model.predict(X_test)\n",
    "print('Logistic Regression Accuracy: ', accuracy_score(Y_test,lr_y_pred_2)*100)"
   ]
  },
  {
   "cell_type": "code",
   "execution_count": 36,
   "metadata": {},
   "outputs": [
    {
     "name": "stdout",
     "output_type": "stream",
     "text": [
      "[[11823  1024]\n",
      " [  780  6373]]\n",
      "              precision    recall  f1-score   support\n",
      "\n",
      "          No       0.94      0.92      0.93     12847\n",
      "         Yes       0.86      0.89      0.88      7153\n",
      "\n",
      "    accuracy                           0.91     20000\n",
      "   macro avg       0.90      0.91      0.90     20000\n",
      "weighted avg       0.91      0.91      0.91     20000\n",
      "\n"
     ]
    }
   ],
   "source": [
    "print(confusion_matrix(Y_test, lr_y_pred_2))\n",
    "print(classification_report(Y_test, lr_y_pred_2))"
   ]
  },
  {
   "cell_type": "markdown",
   "metadata": {},
   "source": [
    "### Naive Bayes"
   ]
  },
  {
   "cell_type": "code",
   "execution_count": 37,
   "metadata": {},
   "outputs": [
    {
     "name": "stdout",
     "output_type": "stream",
     "text": [
      "Naive Bayes Accuracy:  82.85\n"
     ]
    }
   ],
   "source": [
    "from sklearn.naive_bayes import GaussianNB\n",
    "gnb = GaussianNB()\n",
    "gnb.fit(X_train,Y_train)\n",
    "gnb_y_pred_2 = gnb.predict(X_test)\n",
    "print('Naive Bayes Accuracy: ', accuracy_score(Y_test,gnb_y_pred_2)*100)"
   ]
  },
  {
   "cell_type": "code",
   "execution_count": 38,
   "metadata": {},
   "outputs": [
    {
     "name": "stdout",
     "output_type": "stream",
     "text": [
      "[[9422 3425]\n",
      " [   5 7148]]\n",
      "              precision    recall  f1-score   support\n",
      "\n",
      "          No       1.00      0.73      0.85     12847\n",
      "         Yes       0.68      1.00      0.81      7153\n",
      "\n",
      "    accuracy                           0.83     20000\n",
      "   macro avg       0.84      0.87      0.83     20000\n",
      "weighted avg       0.88      0.83      0.83     20000\n",
      "\n"
     ]
    }
   ],
   "source": [
    "print(confusion_matrix(Y_test, gnb_y_pred_2))\n",
    "print(classification_report(Y_test, gnb_y_pred_2))"
   ]
  },
  {
   "cell_type": "markdown",
   "metadata": {},
   "source": [
    "### K-Nearest Neighbors"
   ]
  },
  {
   "cell_type": "code",
   "execution_count": 39,
   "metadata": {
    "scrolled": true
   },
   "outputs": [
    {
     "name": "stdout",
     "output_type": "stream",
     "text": [
      "K-Nearest Neighbors Accuracy:  92.745\n"
     ]
    }
   ],
   "source": [
    "from sklearn.neighbors import KNeighborsClassifier\n",
    "knn = KNeighborsClassifier()\n",
    "knn.fit(X_train,Y_train)\n",
    "knn_y_pred_2 = knn.predict(X_test)\n",
    "print('K-Nearest Neighbors Accuracy: ', accuracy_score(Y_test,knn_y_pred_2)*100)"
   ]
  },
  {
   "cell_type": "code",
   "execution_count": 40,
   "metadata": {
    "scrolled": true
   },
   "outputs": [
    {
     "name": "stdout",
     "output_type": "stream",
     "text": [
      "[[11849   998]\n",
      " [  453  6700]]\n",
      "              precision    recall  f1-score   support\n",
      "\n",
      "          No       0.96      0.92      0.94     12847\n",
      "         Yes       0.87      0.94      0.90      7153\n",
      "\n",
      "    accuracy                           0.93     20000\n",
      "   macro avg       0.92      0.93      0.92     20000\n",
      "weighted avg       0.93      0.93      0.93     20000\n",
      "\n"
     ]
    }
   ],
   "source": [
    "print(confusion_matrix(Y_test, knn_y_pred_2))\n",
    "print(classification_report(Y_test, knn_y_pred_2))"
   ]
  },
  {
   "cell_type": "markdown",
   "metadata": {},
   "source": [
    "### Stochastic Gradient Descent"
   ]
  },
  {
   "cell_type": "code",
   "execution_count": 41,
   "metadata": {},
   "outputs": [
    {
     "name": "stdout",
     "output_type": "stream",
     "text": [
      "Stochastic Gradient Descent Accuracy:  90.97\n"
     ]
    }
   ],
   "source": [
    "from sklearn.linear_model import SGDClassifier\n",
    "sgd = SGDClassifier(loss = 'modified_huber',shuffle = True, random_state = 101)\n",
    "sgd.fit(X_train,Y_train)\n",
    "sgd_y_pred_2 = sgd.predict(X_test)\n",
    "print('Stochastic Gradient Descent Accuracy: ', accuracy_score(Y_test,sgd_y_pred_2)*100)"
   ]
  },
  {
   "cell_type": "code",
   "execution_count": 42,
   "metadata": {},
   "outputs": [
    {
     "name": "stdout",
     "output_type": "stream",
     "text": [
      "[[11291  1556]\n",
      " [  250  6903]]\n",
      "              precision    recall  f1-score   support\n",
      "\n",
      "          No       0.98      0.88      0.93     12847\n",
      "         Yes       0.82      0.97      0.88      7153\n",
      "\n",
      "    accuracy                           0.91     20000\n",
      "   macro avg       0.90      0.92      0.91     20000\n",
      "weighted avg       0.92      0.91      0.91     20000\n",
      "\n"
     ]
    }
   ],
   "source": [
    "print(confusion_matrix(Y_test, sgd_y_pred_2))\n",
    "print(classification_report(Y_test, sgd_y_pred_2))"
   ]
  },
  {
   "cell_type": "markdown",
   "metadata": {},
   "source": [
    "### Support Vector Machines"
   ]
  },
  {
   "cell_type": "code",
   "execution_count": 43,
   "metadata": {},
   "outputs": [
    {
     "name": "stdout",
     "output_type": "stream",
     "text": [
      "Support Vector Machines Accuracy:  93.50500000000001\n"
     ]
    }
   ],
   "source": [
    "from sklearn import svm\n",
    "svm = svm.SVC()\n",
    "svm.fit(X_train,Y_train)\n",
    "svm_y_pred_2 = svm.predict(X_test)\n",
    "print('Support Vector Machines Accuracy: ', accuracy_score(Y_test,svm_y_pred_2)*100)"
   ]
  },
  {
   "cell_type": "code",
   "execution_count": 44,
   "metadata": {},
   "outputs": [
    {
     "name": "stdout",
     "output_type": "stream",
     "text": [
      "[[12059   788]\n",
      " [  511  6642]]\n",
      "              precision    recall  f1-score   support\n",
      "\n",
      "          No       0.96      0.94      0.95     12847\n",
      "         Yes       0.89      0.93      0.91      7153\n",
      "\n",
      "    accuracy                           0.94     20000\n",
      "   macro avg       0.93      0.93      0.93     20000\n",
      "weighted avg       0.94      0.94      0.94     20000\n",
      "\n"
     ]
    }
   ],
   "source": [
    "print(confusion_matrix(Y_test, svm_y_pred_2))\n",
    "print(classification_report(Y_test, svm_y_pred_2))"
   ]
  }
 ],
 "metadata": {
  "colab": {
   "authorship_tag": "ABX9TyNtaQNAMe9HhgXRiL+VSw3q",
   "name": "ML Model.ipynb",
   "provenance": []
  },
  "kernelspec": {
   "display_name": "Python 3",
   "language": "python",
   "name": "python3"
  },
  "language_info": {
   "codemirror_mode": {
    "name": "ipython",
    "version": 3
   },
   "file_extension": ".py",
   "mimetype": "text/x-python",
   "name": "python",
   "nbconvert_exporter": "python",
   "pygments_lexer": "ipython3",
   "version": "3.8.8"
  }
 },
 "nbformat": 4,
 "nbformat_minor": 1
}
